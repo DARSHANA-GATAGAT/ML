{
 "cells": [
  {
   "cell_type": "code",
   "execution_count": 14,
   "id": "6f8583b9",
   "metadata": {},
   "outputs": [
    {
     "name": "stdout",
     "output_type": "stream",
     "text": [
      "['1', '2', '3']\n",
      "['a', 'b', 'c']\n"
     ]
    }
   ],
   "source": [
    "#separate chars and numbers from the string(list comphrension)\n",
    "s='abc123'\n",
    "letters= [x for x in s if x.isalpha()]\n",
    "digits=[x for x in  s if x.isdigit()]\n",
    "print(digits)\n",
    "print(letters)"
   ]
  },
  {
   "cell_type": "code",
   "execution_count": 1,
   "id": "7390f527",
   "metadata": {},
   "outputs": [
    {
     "name": "stdout",
     "output_type": "stream",
     "text": [
      "12\n"
     ]
    }
   ],
   "source": [
    "#lambda function\n",
    "x= lambda a,b :a+b\n",
    "print(x(5,7))"
   ]
  },
  {
   "cell_type": "code",
   "execution_count": 5,
   "id": "d1a98e7c",
   "metadata": {},
   "outputs": [
    {
     "name": "stdout",
     "output_type": "stream",
     "text": [
      "13\n"
     ]
    }
   ],
   "source": [
    "def myfunc(n):\n",
    " return lambda a,b: a*b+n\n",
    "test=myfunc(5)\n",
    "print(test(2,4))"
   ]
  },
  {
   "cell_type": "code",
   "execution_count": 17,
   "id": "cd1af68e",
   "metadata": {},
   "outputs": [
    {
     "name": "stdout",
     "output_type": "stream",
     "text": [
      "['1', '2', '3', '4', 5]\n",
      "['1', '2', '3', '4', 5, '6', '7', '8', '9']\n",
      "['6', '7', '8', '9', ['1', '2', '3', '4', 5, '6', '7', '8', '9']]\n"
     ]
    }
   ],
   "source": [
    "#Arrays\n",
    "test= [\"1\",\"2\",\"3\",\"4\"]\n",
    "arr=[\"6\",\"7\",\"8\",\"9\"]\n",
    "len(test)\n",
    "test.append(5)\n",
    "print(test)\n",
    "test.extend(arr)\n",
    "print(test)\n",
    "arr.append(test)\n",
    "print(arr)\n"
   ]
  },
  {
   "cell_type": "code",
   "execution_count": 21,
   "id": "86d01edf",
   "metadata": {},
   "outputs": [
    {
     "name": "stdout",
     "output_type": "stream",
     "text": [
      "joey 30\n"
     ]
    }
   ],
   "source": [
    "#class/object\n",
    "class person:\n",
    "    def __init__(self,name,age):\n",
    "     self.name = name\n",
    "     self.age = age\n",
    "p=person(\"joey\",30)\n",
    "\n",
    "print(p.name, p.age)    "
   ]
  },
  {
   "cell_type": "code",
   "execution_count": 26,
   "id": "316f5c45",
   "metadata": {},
   "outputs": [
    {
     "name": "stdout",
     "output_type": "stream",
     "text": [
      "[1, 4, 9, 16]\n"
     ]
    }
   ],
   "source": [
    "#map and filter\n",
    "num=[\"1\",\"2\",\"3\",\"4\"]\n",
    "sq=list(map(lambda x:int(x)**2,num))\n",
    "print(sq)"
   ]
  },
  {
   "cell_type": "code",
   "execution_count": 28,
   "id": "7799f39d",
   "metadata": {},
   "outputs": [
    {
     "name": "stdout",
     "output_type": "stream",
     "text": [
      "['2', '4']\n"
     ]
    }
   ],
   "source": [
    "eve=list(filter(lambda x:int(x)%2==0, num))\n",
    "print(eve)"
   ]
  },
  {
   "cell_type": "code",
   "execution_count": 30,
   "id": "4819055e",
   "metadata": {},
   "outputs": [
    {
     "name": "stdout",
     "output_type": "stream",
     "text": [
      "[4, 16]\n"
     ]
    }
   ],
   "source": [
    "sqeve= [int(x)**2 for x in num if int(x)%2==0]\n",
    "print(sqeve)"
   ]
  },
  {
   "cell_type": "code",
   "execution_count": 32,
   "id": "6754d376",
   "metadata": {},
   "outputs": [
    {
     "name": "stdout",
     "output_type": "stream",
     "text": [
      "5\n"
     ]
    }
   ],
   "source": [
    "x=lambda a,b:a+b\n",
    "print(x(2,3))"
   ]
  },
  {
   "cell_type": "code",
   "execution_count": 38,
   "id": "239640fd",
   "metadata": {},
   "outputs": [
    {
     "name": "stdout",
     "output_type": "stream",
     "text": [
      "drive\n",
      "fly\n"
     ]
    }
   ],
   "source": [
    "#polymorphism\n",
    "class car:\n",
    "    def __init__(self,model):\n",
    "     self.model=model\n",
    "    def move(self):\n",
    "        print('drive')\n",
    "\n",
    "        \n",
    "class plane:\n",
    "    def __init__(self,brand):\n",
    "     self.brand=brand\n",
    "    def move(self):\n",
    "        print('fly')\n",
    "        \n",
    "        \n",
    "c1= car(\"Mercedes\")\n",
    "p1= plane(\"Indigo\")\n",
    "\n",
    "for x in (c1, p1):\n",
    "    x.move()\n",
    "    \n",
    "    "
   ]
  },
  {
   "cell_type": "code",
   "execution_count": 39,
   "id": "afa64e34",
   "metadata": {},
   "outputs": [
    {
     "name": "stdout",
     "output_type": "stream",
     "text": [
      "<built-in function sum>\n"
     ]
    }
   ],
   "source": [
    "matrix= [[1,23,],[4,5]]\n",
    "sums=[sum(inner)for inner in matrix]\n",
    "print(sum)"
   ]
  }
 ],
 "metadata": {
  "kernelspec": {
   "display_name": "Python 3 (ipykernel)",
   "language": "python",
   "name": "python3"
  },
  "language_info": {
   "codemirror_mode": {
    "name": "ipython",
    "version": 3
   },
   "file_extension": ".py",
   "mimetype": "text/x-python",
   "name": "python",
   "nbconvert_exporter": "python",
   "pygments_lexer": "ipython3",
   "version": "3.9.13"
  }
 },
 "nbformat": 4,
 "nbformat_minor": 5
}
